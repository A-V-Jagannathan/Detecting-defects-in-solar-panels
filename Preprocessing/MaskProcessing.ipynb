{
 "cells": [
  {
   "cell_type": "code",
   "execution_count": 63,
   "id": "5dc5d1a3",
   "metadata": {},
   "outputs": [],
   "source": [
    "def MaskProcess(path,n):\n",
    "    import os\n",
    "    from PIL import Image as im\n",
    "    from numpy import asarray\n",
    "    for name in os.listdir(path):\n",
    "        s=path+name\n",
    "        image = im.open(s)\n",
    "        arr=asarray(image)\n",
    "        for i in range(0,len(arr)):\n",
    "            for j in range(0,len(arr[i])):\n",
    "                if(arr[i][j]==2 or arr[i][j]==4):\n",
    "                    arr[i][j]=0\n",
    "                elif(arr[i][j]==3):\n",
    "                    arr[i][j]=2\n",
    "                elif(arr[i][j]>4):\n",
    "                    arr[i][j]-=2\n",
    "        data = im.fromarray(arr)\n",
    "        data.save(s)"
   ]
  },
  {
   "cell_type": "code",
   "execution_count": 73,
   "id": "0a1733a9",
   "metadata": {},
   "outputs": [],
   "source": [
    "MaskProcess(\"C:/Users/jgan2/OneDrive/Desktop/PanelSegmentationSet1/train_annots/\",4)"
   ]
  },
  {
   "cell_type": "markdown",
   "id": "527c564e",
   "metadata": {},
   "source": [
    "## Checking for faulty pixel "
   ]
  },
  {
   "cell_type": "code",
   "execution_count": 74,
   "id": "73afd800",
   "metadata": {},
   "outputs": [
    {
     "data": {
      "image/png": "[encoded data removed]",
      "text/plain": [
       "<Figure size 432x288 with 1 Axes>"
      ]
     },
     "metadata": {
      "needs_background": "light"
     },
     "output_type": "display_data"
    }
   ],
   "source": [
    "import numpy as np\n",
    "from PIL import Image as im\n",
    "image = im.open(\"C:/Users/jgan2/OneDrive/Desktop/PanelSegmentationSet1/train_annots/img17.png\")\n",
    "arr=np.asarray(image)\n",
    "data=im.fromarray((arr * 5).astype(np.uint8))\n",
    "from matplotlib import pyplot as plt\n",
    "plt.imshow(data, interpolation='nearest')\n",
    "plt.show()"
   ]
  },
  {
   "cell_type": "code",
   "execution_count": 61,
   "id": "9c063f62",
   "metadata": {},
   "outputs": [],
   "source": [
    "#Change the line 3 to manually check each pixel\n",
    "for i in range(0,len(arr)):\n",
    "    for j in range(0,len(arr[i])):\n",
    "        if(arr[i][j]==5):\n",
    "            arr[i][j]=0\n"
   ]
  },
  {
   "cell_type": "code",
   "execution_count": 62,
   "id": "f76706f7",
   "metadata": {},
   "outputs": [
    {
     "data": {
      "image/png": "[encoded data removed]",
      "text/plain": [
       "<Figure size 432x288 with 1 Axes>"
      ]
     },
     "metadata": {
      "needs_background": "light"
     },
     "output_type": "display_data"
    }
   ],
   "source": [
    "data=im.fromarray((arr * 5).astype(np.uint8))\n",
    "from matplotlib import pyplot as plt\n",
    "plt.imshow(data, interpolation='nearest')\n",
    "plt.show()"
   ]
  },
  {
   "cell_type": "markdown",
   "id": "3f1a315f",
   "metadata": {},
   "source": [
    "**Inference**"
   ]
  },
  {
   "cell_type": "code",
   "execution_count": null,
   "id": "bc35baca",
   "metadata": {},
   "outputs": [],
   "source": [
    "#2 remove- set to 0\n",
    "#4 remove- set to 0\n",
    "#1 BP\n",
    "#3 DHS\n",
    "#5 LHS\n",
    "#6 Normal"
   ]
  }
 ],
 "metadata": {
  "kernelspec": {
   "display_name": "Python 3 (ipykernel)",
   "language": "python",
   "name": "python3"
  },
  "language_info": {
   "codemirror_mode": {
    "name": "ipython",
    "version": 3
   },
   "file_extension": ".py",
   "mimetype": "text/x-python",
   "name": "python",
   "nbconvert_exporter": "python",
   "pygments_lexer": "ipython3",
   "version": "3.9.12"
  }
 },
 "nbformat": 4,
 "nbformat_minor": 5
}
