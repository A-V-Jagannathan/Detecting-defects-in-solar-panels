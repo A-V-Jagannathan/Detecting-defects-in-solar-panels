{
 "cells": [
  {
   "cell_type": "code",
   "execution_count": 2,
   "id": "3b258d3b",
   "metadata": {},
   "outputs": [],
   "source": [
    "import os"
   ]
  },
  {
   "cell_type": "code",
   "execution_count": 3,
   "id": "59e1ebb3",
   "metadata": {},
   "outputs": [],
   "source": [
    "def findrf(s):\n",
    "    return s.find(\".rf.\")"
   ]
  },
  {
   "cell_type": "code",
   "execution_count": 4,
   "id": "0f577afb",
   "metadata": {},
   "outputs": [],
   "source": [
    "def ren(path):\n",
    "    i = 1\n",
    "    for filename in os.listdir(path):\n",
    "        my_dest=\"\"\n",
    "        try:\n",
    "            if(\"_mask\" in filename):\n",
    "                n=findrf(filename)\n",
    "                my_dest =\"z\"+filename[:n]+\".jpg\"\n",
    "            else:\n",
    "                n=findrf(filename)\n",
    "                my_dest =filename[:n]+\".jpg\"\n",
    "            my_source =path + filename\n",
    "            my_dest =path + my_dest\n",
    "            os.rename(my_source, my_dest)\n",
    "        except:\n",
    "            if(\"_mask\" in filename):\n",
    "                n=findrf(filename)\n",
    "                my_dest =\"z\"+filename[:n]+str(i)+\".jpg\"\n",
    "                i+=1\n",
    "            else:\n",
    "                n=findrf(filename)\n",
    "                my_dest =filename[:n]+str(i)+\".jpg\"\n",
    "            my_source =path + filename\n",
    "            my_dest =path + my_dest\n",
    "            os.rename(my_source, my_dest)\n",
    "        "
   ]
  },
  {
   "cell_type": "code",
   "execution_count": 6,
   "id": "9a4249da",
   "metadata": {},
   "outputs": [],
   "source": [
    "path1=\"C:/Users/jgan2/OneDrive/Desktop/PanelSegmentationSet1/train/\"\n",
    "path11=\"C:/Users/jgan2/OneDrive/Desktop/PanelSegmentationSet1/train_annots/\"\n",
    "path2=\"C:/Users/jgan2/OneDrive/Desktop/PanelSegmentationSet1/valid/\"\n",
    "path22=\"C:/Users/jgan2/OneDrive/Desktop/PanelSegmentationSet1/valid_annots/\""
   ]
  },
  {
   "cell_type": "code",
   "execution_count": 15,
   "id": "1d2382c7",
   "metadata": {},
   "outputs": [],
   "source": [
    "ren(path1)\n",
    "ren(path2)"
   ]
  },
  {
   "cell_type": "code",
   "execution_count": 8,
   "id": "efbce73e",
   "metadata": {},
   "outputs": [],
   "source": [
    "def renZ(path):\n",
    "    for filename in os.listdir(path):\n",
    "        my_dest =filename[1:]\n",
    "        my_source =path + filename\n",
    "        my_dest =path + my_dest\n",
    "        os.rename(my_source, my_dest)\n",
    "    "
   ]
  },
  {
   "cell_type": "code",
   "execution_count": 16,
   "id": "c08cac92",
   "metadata": {},
   "outputs": [],
   "source": [
    "renZ(path11)\n",
    "renZ(path22)"
   ]
  },
  {
   "cell_type": "code",
   "execution_count": 10,
   "id": "d2c925b6",
   "metadata": {},
   "outputs": [],
   "source": [
    "def renamer(path):\n",
    "    s=\"img\"\n",
    "    i=1\n",
    "    for filename in os.listdir(path):\n",
    "        my_dest =s+str(i)+\".png\"\n",
    "        my_source =path + filename\n",
    "        my_dest =path + my_dest\n",
    "        os.rename(my_source, my_dest)\n",
    "        i+=1\n",
    "    "
   ]
  },
  {
   "cell_type": "code",
   "execution_count": 17,
   "id": "68ade3f2",
   "metadata": {},
   "outputs": [],
   "source": [
    "renamer(path1)"
   ]
  },
  {
   "cell_type": "code",
   "execution_count": 18,
   "id": "30e55106",
   "metadata": {},
   "outputs": [],
   "source": [
    "renamer(path11)"
   ]
  },
  {
   "cell_type": "code",
   "execution_count": 19,
   "id": "19fba35f",
   "metadata": {},
   "outputs": [],
   "source": [
    "renamer(path2)"
   ]
  },
  {
   "cell_type": "code",
   "execution_count": 20,
   "id": "aeb8301b",
   "metadata": {},
   "outputs": [],
   "source": [
    "renamer(path22)"
   ]
  }
 ],
 "metadata": {
  "kernelspec": {
   "display_name": "Python 3 (ipykernel)",
   "language": "python",
   "name": "python3"
  },
  "language_info": {
   "codemirror_mode": {
    "name": "ipython",
    "version": 3
   },
   "file_extension": ".py",
   "mimetype": "text/x-python",
   "name": "python",
   "nbconvert_exporter": "python",
   "pygments_lexer": "ipython3",
   "version": "3.9.12"
  }
 },
 "nbformat": 4,
 "nbformat_minor": 5
}
